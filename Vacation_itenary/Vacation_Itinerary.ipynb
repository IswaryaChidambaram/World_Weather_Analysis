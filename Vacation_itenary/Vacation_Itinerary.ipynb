{
 "cells": [
  {
   "cell_type": "markdown",
   "metadata": {},
   "source": [
    "## Deliverable 3. Create a Travel Itinerary Map."
   ]
  },
  {
   "cell_type": "code",
   "execution_count": 41,
   "metadata": {},
   "outputs": [],
   "source": [
    "# Dependencies and Setup\n",
    "import pandas as pd\n",
    "import requests\n",
    "import gmaps\n",
    "import gmaps.datasets\n",
    "\n",
    "# Import API key\n",
    "from config import g_key\n",
    "\n",
    "# Configure gmaps\n",
    "gmaps.configure(api_key=g_key)"
   ]
  },
  {
   "cell_type": "code",
   "execution_count": 42,
   "metadata": {},
   "outputs": [
    {
     "data": {
      "text/html": [
       "<div>\n",
       "<style scoped>\n",
       "    .dataframe tbody tr th:only-of-type {\n",
       "        vertical-align: middle;\n",
       "    }\n",
       "\n",
       "    .dataframe tbody tr th {\n",
       "        vertical-align: top;\n",
       "    }\n",
       "\n",
       "    .dataframe thead th {\n",
       "        text-align: right;\n",
       "    }\n",
       "</style>\n",
       "<table border=\"1\" class=\"dataframe\">\n",
       "  <thead>\n",
       "    <tr style=\"text-align: right;\">\n",
       "      <th></th>\n",
       "      <th>City_ID</th>\n",
       "      <th>City_ID.1</th>\n",
       "      <th>city</th>\n",
       "      <th>country</th>\n",
       "      <th>latitude</th>\n",
       "      <th>longitude</th>\n",
       "      <th>Maximum_temperature</th>\n",
       "      <th>percent_humidity</th>\n",
       "      <th>percent_cloudiness</th>\n",
       "      <th>wind_speed</th>\n",
       "      <th>description</th>\n",
       "    </tr>\n",
       "  </thead>\n",
       "  <tbody>\n",
       "    <tr>\n",
       "      <th>0</th>\n",
       "      <td>2</td>\n",
       "      <td>2</td>\n",
       "      <td>Cayenne</td>\n",
       "      <td>GF</td>\n",
       "      <td>4.9333</td>\n",
       "      <td>-52.3333</td>\n",
       "      <td>24.49</td>\n",
       "      <td>90</td>\n",
       "      <td>0</td>\n",
       "      <td>0.00</td>\n",
       "      <td>clear sky</td>\n",
       "    </tr>\n",
       "    <tr>\n",
       "      <th>1</th>\n",
       "      <td>4</td>\n",
       "      <td>4</td>\n",
       "      <td>Isabela</td>\n",
       "      <td>PH</td>\n",
       "      <td>6.7085</td>\n",
       "      <td>121.9711</td>\n",
       "      <td>31.03</td>\n",
       "      <td>59</td>\n",
       "      <td>84</td>\n",
       "      <td>1.92</td>\n",
       "      <td>broken clouds</td>\n",
       "    </tr>\n",
       "    <tr>\n",
       "      <th>2</th>\n",
       "      <td>8</td>\n",
       "      <td>8</td>\n",
       "      <td>Urucurituba</td>\n",
       "      <td>BR</td>\n",
       "      <td>-2.6833</td>\n",
       "      <td>-57.6667</td>\n",
       "      <td>26.61</td>\n",
       "      <td>56</td>\n",
       "      <td>69</td>\n",
       "      <td>0.36</td>\n",
       "      <td>broken clouds</td>\n",
       "    </tr>\n",
       "    <tr>\n",
       "      <th>3</th>\n",
       "      <td>12</td>\n",
       "      <td>12</td>\n",
       "      <td>Arlit</td>\n",
       "      <td>NE</td>\n",
       "      <td>18.7369</td>\n",
       "      <td>7.3853</td>\n",
       "      <td>30.08</td>\n",
       "      <td>46</td>\n",
       "      <td>86</td>\n",
       "      <td>4.13</td>\n",
       "      <td>overcast clouds</td>\n",
       "    </tr>\n",
       "    <tr>\n",
       "      <th>4</th>\n",
       "      <td>16</td>\n",
       "      <td>16</td>\n",
       "      <td>Venice</td>\n",
       "      <td>US</td>\n",
       "      <td>27.0998</td>\n",
       "      <td>-82.4543</td>\n",
       "      <td>29.01</td>\n",
       "      <td>87</td>\n",
       "      <td>40</td>\n",
       "      <td>2.06</td>\n",
       "      <td>scattered clouds</td>\n",
       "    </tr>\n",
       "  </tbody>\n",
       "</table>\n",
       "</div>"
      ],
      "text/plain": [
       "   City_ID  City_ID.1         city country  latitude  longitude  \\\n",
       "0        2          2      Cayenne      GF    4.9333   -52.3333   \n",
       "1        4          4      Isabela      PH    6.7085   121.9711   \n",
       "2        8          8  Urucurituba      BR   -2.6833   -57.6667   \n",
       "3       12         12        Arlit      NE   18.7369     7.3853   \n",
       "4       16         16       Venice      US   27.0998   -82.4543   \n",
       "\n",
       "   Maximum_temperature  percent_humidity  percent_cloudiness  wind_speed  \\\n",
       "0                24.49                90                   0        0.00   \n",
       "1                31.03                59                  84        1.92   \n",
       "2                26.61                56                  69        0.36   \n",
       "3                30.08                46                  86        4.13   \n",
       "4                29.01                87                  40        2.06   \n",
       "\n",
       "        description  \n",
       "0         clear sky  \n",
       "1     broken clouds  \n",
       "2     broken clouds  \n",
       "3   overcast clouds  \n",
       "4  scattered clouds  "
      ]
     },
     "execution_count": 42,
     "metadata": {},
     "output_type": "execute_result"
    }
   ],
   "source": [
    "# 1. Read the WeatherPy_vacation.csv into a DataFrame.\n",
    "vacation_df = pd.read_csv(\"../Vacation_Search/WeatherPy_vacation.csv\")\n",
    "vacation_df.head()"
   ]
  },
  {
   "cell_type": "code",
   "execution_count": 43,
   "metadata": {},
   "outputs": [],
   "source": [
    "# 2. Using the template add the city name, the country code, the weather description and maximum temperature for the city.\n",
    "info_box_template = \"\"\"\n",
    "<dl>\n",
    "\n",
    "<dt>city</dt><dd>{city}</dd>\n",
    "<dt>country</dt><dd>{country}</dd>\n",
    "<dt>Maximum_temperature</dt><dd>{Maximum_temperature} °F</dd>\n",
    "<dt>description</dt><dd>{description} </dd>\n",
    "\n",
    "</dl>\n",
    "\"\"\"\n",
    "\n",
    "# 3a. Get the data from each row and add it to the formatting template and store the data in a list.\n",
    "hotel_info = [info_box_template.format(**row) for index, row in vacation_df.iterrows()]\n",
    "\n",
    "# 3b. Get the latitude and longitude from each row and store in a new DataFrame.\n",
    "locations = vacation_df[[\"latitude\", \"longitude\"]]"
   ]
  },
  {
   "cell_type": "code",
   "execution_count": 44,
   "metadata": {},
   "outputs": [
    {
     "data": {
      "application/vnd.jupyter.widget-view+json": {
       "model_id": "5b0dfe1b972d4ac3bdc07cec7c058fe5",
       "version_major": 2,
       "version_minor": 0
      },
      "text/plain": [
       "Figure(layout=FigureLayout(height='420px'))"
      ]
     },
     "metadata": {},
     "output_type": "display_data"
    }
   ],
   "source": [
    "# 4a. Add a marker layer for each city to the map.\n",
    "\n",
    "# 4b. Display the figure\n",
    "\n",
    "max_temp = vacation_df[\"Maximum_temperature\"]\n",
    "fig = gmaps.figure(center=(30.0, 31.0), zoom_level=1.5)\n",
    "\n",
    "marker_layer = gmaps.marker_layer(locations, info_box_content=hotel_info)\n",
    "\n",
    "fig.add_layer(marker_layer)\n",
    "\n",
    "# Call the figure to plot the data.\n",
    "fig"
   ]
  },
  {
   "cell_type": "code",
   "execution_count": 58,
   "metadata": {},
   "outputs": [],
   "source": [
    "# From the map above pick 4 cities and create a vacation itinerary route to travel between the four cities. \n",
    "# 5. Create DataFrames for each city by filtering the 'vacation_df' using the loc method. \n",
    "# Hint: The starting and ending city should be the same city.\n",
    "\n",
    "vacation_start = vacation_df.loc[(vacation_df[\"city\"]=='Troy')]\n",
    "\n",
    "vacation_end = vacation_df.loc[(vacation_df[\"city\"]=='Troy')]\n",
    "\n",
    "\n",
    "vacation_stop1 = vacation_df.loc[(vacation_df[\"city\"]==\"Bud\")]\n",
    "vacation_stop2 = vacation_df.loc[(vacation_df[\"city\"]==\"Hamilton\")] \n",
    "vacation_stop3 = vacation_df.loc[(vacation_df[\"city\"]==\"Fort Dix\")] "
   ]
  },
  {
   "cell_type": "code",
   "execution_count": 59,
   "metadata": {},
   "outputs": [
    {
     "name": "stdout",
     "output_type": "stream",
     "text": [
      "Start: (42.6056, -83.1499), End: (42.6056, -83.1499)\n",
      "Stop 1: (39.447, -86.1758), Stop 2: (39.1834, -84.5333), Stop 3: (40.0298, -74.6185)\n"
     ]
    }
   ],
   "source": [
    "# 6. Get the latitude-longitude pairs as tuples from each city DataFrame using the to_numpy function and list indexing.\n",
    "\n",
    "start = vacation_start[\"latitude\"].to_numpy()[0], vacation_start[\"longitude\"].to_numpy()[0]\n",
    "end = vacation_end[\"latitude\"].to_numpy()[0], vacation_end[\"longitude\"].to_numpy()[0]\n",
    "print(f'Start: {start}, End: {end}')\n",
    "\n",
    "# Get the lat and lng for the stops\n",
    "coords_stop_1 = vacation_stop1[\"latitude\"].to_numpy()[0], vacation_stop1[\"longitude\"].to_numpy()[0]\n",
    "coords_stop_2 = vacation_stop2[\"latitude\"].to_numpy()[0], vacation_stop2[\"longitude\"].to_numpy()[0]\n",
    "coords_stop_3 = vacation_stop3[\"latitude\"].to_numpy()[0], vacation_stop3[\"longitude\"].to_numpy()[0]\n",
    "print(f'Stop 1: {coords_stop_1}, Stop 2: {coords_stop_2}, Stop 3: {coords_stop_3}')\n",
    "\n",
    "\n",
    "\n"
   ]
  },
  {
   "cell_type": "code",
   "execution_count": 61,
   "metadata": {
    "scrolled": true
   },
   "outputs": [
    {
     "data": {
      "application/vnd.jupyter.widget-view+json": {
       "model_id": "bf0864f704374d76bcfbc98dd550f6f3",
       "version_major": 2,
       "version_minor": 0
      },
      "text/plain": [
       "Figure(layout=FigureLayout(height='420px'))"
      ]
     },
     "metadata": {},
     "output_type": "display_data"
    }
   ],
   "source": [
    "# 7. Create a direction layer map using the start and end latitude-longitude pairs,\n",
    "# and stop1, stop2, and stop3 as the waypoints. The travel_mode should be \"DRIVING\", \"BICYCLING\", or \"WALKING\".\n",
    "\n",
    "\n",
    "fig = gmaps.figure()\n",
    "city_itinerary = gmaps.directions_layer(\n",
    "        start, end, waypoints=[coords_stop_1, coords_stop_2,coords_stop_3],\n",
    "        travel_mode='DRIVING')\n",
    "\n",
    "fig.add_layer(city_itinerary)\n",
    "fig"
   ]
  },
  {
   "cell_type": "code",
   "execution_count": 67,
   "metadata": {},
   "outputs": [
    {
     "data": {
      "text/html": [
       "<div>\n",
       "<style scoped>\n",
       "    .dataframe tbody tr th:only-of-type {\n",
       "        vertical-align: middle;\n",
       "    }\n",
       "\n",
       "    .dataframe tbody tr th {\n",
       "        vertical-align: top;\n",
       "    }\n",
       "\n",
       "    .dataframe thead th {\n",
       "        text-align: right;\n",
       "    }\n",
       "</style>\n",
       "<table border=\"1\" class=\"dataframe\">\n",
       "  <thead>\n",
       "    <tr style=\"text-align: right;\">\n",
       "      <th></th>\n",
       "      <th>City_ID</th>\n",
       "      <th>City_ID.1</th>\n",
       "      <th>city</th>\n",
       "      <th>country</th>\n",
       "      <th>latitude</th>\n",
       "      <th>longitude</th>\n",
       "      <th>Maximum_temperature</th>\n",
       "      <th>percent_humidity</th>\n",
       "      <th>percent_cloudiness</th>\n",
       "      <th>wind_speed</th>\n",
       "      <th>description</th>\n",
       "    </tr>\n",
       "  </thead>\n",
       "  <tbody>\n",
       "    <tr>\n",
       "      <th>0</th>\n",
       "      <td>68</td>\n",
       "      <td>68</td>\n",
       "      <td>Troy</td>\n",
       "      <td>US</td>\n",
       "      <td>42.6056</td>\n",
       "      <td>-83.1499</td>\n",
       "      <td>24.26</td>\n",
       "      <td>85</td>\n",
       "      <td>64</td>\n",
       "      <td>0.45</td>\n",
       "      <td>broken clouds</td>\n",
       "    </tr>\n",
       "    <tr>\n",
       "      <th>1</th>\n",
       "      <td>297</td>\n",
       "      <td>297</td>\n",
       "      <td>Bud</td>\n",
       "      <td>US</td>\n",
       "      <td>39.4470</td>\n",
       "      <td>-86.1758</td>\n",
       "      <td>25.97</td>\n",
       "      <td>87</td>\n",
       "      <td>76</td>\n",
       "      <td>2.18</td>\n",
       "      <td>broken clouds</td>\n",
       "    </tr>\n",
       "    <tr>\n",
       "      <th>2</th>\n",
       "      <td>55</td>\n",
       "      <td>55</td>\n",
       "      <td>Hamilton</td>\n",
       "      <td>US</td>\n",
       "      <td>39.1834</td>\n",
       "      <td>-84.5333</td>\n",
       "      <td>26.34</td>\n",
       "      <td>85</td>\n",
       "      <td>1</td>\n",
       "      <td>0.00</td>\n",
       "      <td>clear sky</td>\n",
       "    </tr>\n",
       "    <tr>\n",
       "      <th>3</th>\n",
       "      <td>501</td>\n",
       "      <td>501</td>\n",
       "      <td>Fort Dix</td>\n",
       "      <td>US</td>\n",
       "      <td>40.0298</td>\n",
       "      <td>-74.6185</td>\n",
       "      <td>23.65</td>\n",
       "      <td>86</td>\n",
       "      <td>1</td>\n",
       "      <td>0.00</td>\n",
       "      <td>clear sky</td>\n",
       "    </tr>\n",
       "  </tbody>\n",
       "</table>\n",
       "</div>"
      ],
      "text/plain": [
       "   City_ID  City_ID.1      city country  latitude  longitude  \\\n",
       "0       68         68      Troy      US   42.6056   -83.1499   \n",
       "1      297        297       Bud      US   39.4470   -86.1758   \n",
       "2       55         55  Hamilton      US   39.1834   -84.5333   \n",
       "3      501        501  Fort Dix      US   40.0298   -74.6185   \n",
       "\n",
       "   Maximum_temperature  percent_humidity  percent_cloudiness  wind_speed  \\\n",
       "0                24.26                85                  64        0.45   \n",
       "1                25.97                87                  76        2.18   \n",
       "2                26.34                85                   1        0.00   \n",
       "3                23.65                86                   1        0.00   \n",
       "\n",
       "     description  \n",
       "0  broken clouds  \n",
       "1  broken clouds  \n",
       "2      clear sky  \n",
       "3      clear sky  "
      ]
     },
     "execution_count": 67,
     "metadata": {},
     "output_type": "execute_result"
    }
   ],
   "source": [
    "# 8. To create a marker layer map between the four cities.\n",
    "#  Combine the four city DataFrames into one DataFrame using the concat() function.\n",
    "\n",
    "itinerary_df = pd.concat([vacation_start,vacation_stop1,vacation_stop2,vacation_stop3],ignore_index=True)\n",
    "itinerary_df"
   ]
  },
  {
   "cell_type": "code",
   "execution_count": 70,
   "metadata": {},
   "outputs": [],
   "source": [
    "# 9 Using the template add city name, the country code, the weather description and maximum temperature for the city. \n",
    "info_box_template = \"\"\"\n",
    "<dl>\n",
    "\n",
    "<dt>city</dt><dd>{city}</dd>\n",
    "<dt>country</dt><dd>{country}</dd>\n",
    "<dt>Maximum_temperature</dt><dd>{Maximum_temperature} °F</dd>\n",
    "<dt>description</dt><dd>{description} </dd>\n",
    "\n",
    "</dl>\n",
    "\"\"\"\n",
    "\n",
    "# 10a Get the data from each row and add it to the formatting template and store the data in a list.\n",
    "hotel_info = [info_box_template.format(**row) for index, row in itinerary_df.iterrows()]\n",
    "\n",
    "# 10b. Get the latitude and longitude from each row and store in a new DataFrame.\n",
    "locations = itinerary_df[[\"latitude\", \"longitude\"]]"
   ]
  },
  {
   "cell_type": "code",
   "execution_count": 72,
   "metadata": {},
   "outputs": [
    {
     "data": {
      "application/vnd.jupyter.widget-view+json": {
       "model_id": "392c6d8da00f477195f8e14b83e7e694",
       "version_major": 2,
       "version_minor": 0
      },
      "text/plain": [
       "Figure(layout=FigureLayout(height='420px'))"
      ]
     },
     "metadata": {},
     "output_type": "display_data"
    }
   ],
   "source": [
    "# 11a. Add a marker layer for each city to the map.\n",
    "max_temp = itinerary_df[\"Maximum_temperature\"]\n",
    "fig = gmaps.figure(center=(30.0, 31.0), zoom_level=1.5)\n",
    "\n",
    "marker_layer = gmaps.marker_layer(locations, info_box_content=hotel_info)\n",
    "\n",
    "fig.add_layer(marker_layer)\n",
    "\n",
    "# Call the figure to plot the data.\n",
    "fig\n",
    "# 11b. Display the figure\n"
   ]
  },
  {
   "cell_type": "code",
   "execution_count": null,
   "metadata": {},
   "outputs": [],
   "source": []
  }
 ],
 "metadata": {
  "kernelspec": {
   "display_name": "PythonData",
   "language": "python",
   "name": "pythondata"
  },
  "language_info": {
   "codemirror_mode": {
    "name": "ipython",
    "version": 3
   },
   "file_extension": ".py",
   "mimetype": "text/x-python",
   "name": "python",
   "nbconvert_exporter": "python",
   "pygments_lexer": "ipython3",
   "version": "3.8.8"
  },
  "latex_envs": {
   "LaTeX_envs_menu_present": true,
   "autoclose": false,
   "autocomplete": true,
   "bibliofile": "biblio.bib",
   "cite_by": "apalike",
   "current_citInitial": 1,
   "eqLabelWithNumbers": true,
   "eqNumInitial": 1,
   "hotkeys": {
    "equation": "Ctrl-E",
    "itemize": "Ctrl-I"
   },
   "labels_anchors": false,
   "latex_user_defs": false,
   "report_style_numbering": false,
   "user_envs_cfg": false
  }
 },
 "nbformat": 4,
 "nbformat_minor": 2
}
